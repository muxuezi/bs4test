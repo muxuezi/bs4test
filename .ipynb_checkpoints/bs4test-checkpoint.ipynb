{
 "metadata": {
  "name": "",
  "signature": "sha256:8fba67d0c4e880e258dadb5adcb4df72a74229efef748962b69f859329268802"
 },
 "nbformat": 3,
 "nbformat_minor": 0,
 "worksheets": [
  {
   "cells": [
    {
     "cell_type": "code",
     "collapsed": false,
     "input": [
      "from urllib import urlopen\n",
      "from bs4 import BeautifulSoup"
     ],
     "language": "python",
     "metadata": {},
     "outputs": [],
     "prompt_number": 10
    },
    {
     "cell_type": "code",
     "collapsed": false,
     "input": [
      "list,tuple,set,dict"
     ],
     "language": "python",
     "metadata": {},
     "outputs": []
    },
    {
     "cell_type": "code",
     "collapsed": false,
     "input": [
      "alist = [5,1,2,3,4]\n",
      "# amtx = [alist,alist]\n",
      "alist.reverse()\n",
      "print alist "
     ],
     "language": "python",
     "metadata": {},
     "outputs": [
      {
       "output_type": "stream",
       "stream": "stdout",
       "text": [
        "[4, 3, 2, 1, 5]\n"
       ]
      }
     ],
     "prompt_number": 79
    },
    {
     "cell_type": "code",
     "collapsed": false,
     "input": [
      "atuple = (5,2,3,1,2,3,4)"
     ],
     "language": "python",
     "metadata": {},
     "outputs": [],
     "prompt_number": 46
    },
    {
     "cell_type": "code",
     "collapsed": false,
     "input": [
      "aset = {5,2,3,1,2,3,4}"
     ],
     "language": "python",
     "metadata": {},
     "outputs": [],
     "prompt_number": 48
    },
    {
     "cell_type": "code",
     "collapsed": false,
     "input": [
      "adict = {'name':'arale','age':27,'school':'BJTU'}\n",
      "for key,value in adict.items():\n",
      "    print key,'value is ',value"
     ],
     "language": "python",
     "metadata": {},
     "outputs": [
      {
       "output_type": "stream",
       "stream": "stdout",
       "text": [
        "age value is  27\n",
        "name value is  arale\n",
        "school value is  BJTU\n"
       ]
      }
     ],
     "prompt_number": 56
    },
    {
     "cell_type": "code",
     "collapsed": false,
     "input": [
      "foutput = open('eeoutput.txt','w')"
     ],
     "language": "python",
     "metadata": {},
     "outputs": [],
     "prompt_number": 84
    },
    {
     "cell_type": "code",
     "collapsed": false,
     "input": [
      "label = 0\n",
      "for i in [1,2,3]:\n",
      "    # \u52a0\u5165\u7f51\u5740\n",
      "    url = 'http://eaie.bjtu.edu.cn/list.php?cid=22&page=%s' % str(i)\n",
      "    # \u83b7\u53d6\u6e90\u4ee3\u7801\n",
      "    eepage = urlopen(url).read()\n",
      "    # \u8bfb\u53d6\u5185\u5bb9\n",
      "    soup = BeautifulSoup(eepage)\n",
      "    # \u53d6\u51fa\u8868\u683c\u5185\u5bb9\n",
      "#     tableall = soup.find('div',class_='con')\n",
      "    tableall = soup.find('table',width=\"100%\")\n",
      "    # \u83b7\u53d6\u6240\u6709table rows (tr)\n",
      "    trall = tableall.findAll('tr')\n",
      "    # \u5217\u4e3e\u6240\u6709\u884ctext\u4fe1\u606f\n",
      "    for tr in trall[1:]:\n",
      "        label += 1\n",
      "        content = str(label) + '\\t'.join(tr.text.split()) + '\\t' + 'http://eaie.bjtu.edu.cn/'+tr.find('a').get('href') + '\\n'\n",
      "        foutput.write(content.encode('utf8'))\n",
      "        link = 'http://eaie.bjtu.edu.cn/'+tr.find('a').get('href')\n",
      "        soup1 = BeautifulSoup(urlopen(link).read())\n",
      "        table1 = soup1.find('div',class_='con')\n",
      "        foutput.write(''.join(table1.text.split()).encode('utf8')+'\\n')"
     ],
     "language": "python",
     "metadata": {},
     "outputs": [],
     "prompt_number": 86
    },
    {
     "cell_type": "code",
     "collapsed": false,
     "input": [
      "foutput.close()"
     ],
     "language": "python",
     "metadata": {},
     "outputs": [],
     "prompt_number": 87
    },
    {
     "cell_type": "code",
     "collapsed": false,
     "input": [
      "with open('eeoutput1.txt','w') as foutput:\n",
      "    label = 0\n",
      "    for i in [1,2,3]:\n",
      "        # \u52a0\u5165\u7f51\u5740\n",
      "        url = 'http://eaie.bjtu.edu.cn/list.php?cid=22&page=%s' % str(i)\n",
      "        # \u83b7\u53d6\u6e90\u4ee3\u7801\n",
      "        eepage = urlopen(url).read()\n",
      "        # \u8bfb\u53d6\u5185\u5bb9\n",
      "        soup = BeautifulSoup(eepage)\n",
      "        # \u53d6\u51fa\u8868\u683c\u5185\u5bb9\n",
      "    #     tableall = soup.find('div',class_='con')\n",
      "        tableall = soup.find('table',width=\"100%\")\n",
      "        # \u83b7\u53d6\u6240\u6709table rows (tr)\n",
      "        trall = tableall.findAll('tr')\n",
      "        # \u5217\u4e3e\u6240\u6709\u884ctext\u4fe1\u606f\n",
      "        for tr in trall[1:]:\n",
      "            label += 1\n",
      "            content = '%s\\t%s\\t%s\\n' % (str(label) , '\\t'.join(tr.text.split()), 'http://eaie.bjtu.edu.cn/'+tr.find('a').get('href'))\n",
      "            foutput.write(content.encode('utf8'))\n",
      "            link = 'http://eaie.bjtu.edu.cn/'+tr.find('a').get('href')\n",
      "            soup1 = BeautifulSoup(urlopen(link).read())\n",
      "            table1 = soup1.find('div',class_='con')\n",
      "            foutput.write(''.join(table1.text.split()).encode('utf8')+'\\n')"
     ],
     "language": "python",
     "metadata": {},
     "outputs": [],
     "prompt_number": 89
    },
    {
     "cell_type": "code",
     "collapsed": false,
     "input": [
      "import urllib2\n",
      "name = u'\u5f20\u5b8f\u79d1'\n",
      "school = u'\u5317\u4eac\u4ea4\u901a\u5927\u5b66'\n",
      "transfer = lambda temp : urllib2.quote(temp.encode('utf-8'))\n",
      "url = 'https://duckduckgo.com/?q=%s+%s&t=lm' % (transfer(name),transfer(school))\n",
      "url"
     ],
     "language": "python",
     "metadata": {},
     "outputs": [
      {
       "metadata": {},
       "output_type": "pyout",
       "prompt_number": 143,
       "text": [
        "'https://duckduckgo.com/?q=%E5%BC%A0%E5%AE%8F%E7%A7%91+%E5%8C%97%E4%BA%AC%E4%BA%A4%E9%80%9A%E5%A4%A7%E5%AD%A6&t=lm'"
       ]
      }
     ],
     "prompt_number": 143
    },
    {
     "cell_type": "code",
     "collapsed": false,
     "input": [
      "soup1 = BeautifulSoup(urlopen(url).read())"
     ],
     "language": "python",
     "metadata": {},
     "outputs": [],
     "prompt_number": 144
    },
    {
     "cell_type": "code",
     "collapsed": false,
     "input": [],
     "language": "python",
     "metadata": {},
     "outputs": []
    }
   ],
   "metadata": {}
  }
 ]
}